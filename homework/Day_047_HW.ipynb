{
 "cells": [
  {
   "cell_type": "markdown",
   "metadata": {},
   "source": [
    "# 作業\n",
    "請使用不同的資料集，並使用 hyper-parameter search 的方式，看能不能找出最佳的超參數組合"
   ]
  },
  {
   "cell_type": "code",
   "execution_count": 1,
   "metadata": {},
   "outputs": [],
   "source": [
    "from sklearn import datasets, metrics\n",
    "from sklearn.model_selection import train_test_split, KFold, GridSearchCV\n",
    "from sklearn.ensemble import GradientBoostingRegressor"
   ]
  },
  {
   "cell_type": "code",
   "execution_count": 2,
   "metadata": {},
   "outputs": [],
   "source": [
    "# 讀取手寫辨識資料集\n",
    "wine = datasets.load_wine()\n",
    "# 切分訓練集/測試集\n",
    "x_train, x_test, y_train, y_test = train_test_split(wine.data, wine.target, test_size=0.25, random_state=42)\n",
    "\n",
    "# 建立模型\n",
    "clf = GradientBoostingRegressor(random_state=7)"
   ]
  },
  {
   "cell_type": "code",
   "execution_count": 3,
   "metadata": {},
   "outputs": [
    {
     "name": "stdout",
     "output_type": "stream",
     "text": [
      "0.14672894294872418\n"
     ]
    }
   ],
   "source": [
    "# 先看看使用預設參數得到的結果，約為 0.146 的 MSE\n",
    "clf.fit(x_train, y_train)\n",
    "y_pred = clf.predict(x_test)\n",
    "print(metrics.mean_squared_error(y_test, y_pred))"
   ]
  },
  {
   "cell_type": "code",
   "execution_count": 10,
   "metadata": {},
   "outputs": [
    {
     "name": "stdout",
     "output_type": "stream",
     "text": [
      "Fitting 3 folds for each of 25 candidates, totalling 75 fits\n",
      "[CV] max_depth=1, n_estimators=100 ...................................\n",
      "[CV] max_depth=1, n_estimators=100 ...................................\n",
      "[CV] max_depth=1, n_estimators=100 ...................................\n",
      "[CV] max_depth=1, n_estimators=150 ...................................\n",
      "[CV]  max_depth=1, n_estimators=100, score=-0.09392992433679272, total=   0.0s\n",
      "[CV]  max_depth=1, n_estimators=100, score=-0.05886671534980027, total=   0.0s\n",
      "[CV]  max_depth=1, n_estimators=100, score=-0.09120879366069432, total=   0.0s\n",
      "[CV] max_depth=1, n_estimators=150 ...................................\n",
      "[CV] max_depth=1, n_estimators=150 ...................................\n",
      "[CV] max_depth=1, n_estimators=200 ...................................\n",
      "[CV]  max_depth=1, n_estimators=150, score=-0.06177615622655461, total=   0.0s\n",
      "[CV] max_depth=1, n_estimators=200 ...................................\n",
      "[CV]  max_depth=1, n_estimators=150, score=-0.08775927982681221, total=   0.0s\n",
      "[CV]  max_depth=1, n_estimators=150, score=-0.09182820502698806, total=   0.0s\n",
      "[CV] max_depth=1, n_estimators=200 ...................................\n",
      "[CV] max_depth=1, n_estimators=300 ...................................\n",
      "[CV]  max_depth=1, n_estimators=200, score=-0.06488186147564125, total=   0.1s\n",
      "[CV] max_depth=2, n_estimators=150 ...................................\n",
      "[CV]  max_depth=1, n_estimators=200, score=-0.08651230828447153, total=   0.1s\n",
      "[CV] max_depth=2, n_estimators=250 ...................................\n",
      "[CV]  max_depth=2, n_estimators=150, score=-0.0981363480154721, total=   0.1s\n",
      "[CV] max_depth=2, n_estimators=200 ...................................\n",
      "[CV]  max_depth=1, n_estimators=200, score=-0.09264451179759779, total=   0.1s\n",
      "[CV] max_depth=1, n_estimators=250 ...................................\n",
      "[CV]  max_depth=1, n_estimators=300, score=-0.0982979169597931, total=   0.1s\n",
      "[CV] max_depth=2, n_estimators=100 ...................................\n",
      "[CV]  max_depth=2, n_estimators=200, score=-0.03976740266483707, total=   0.1s\n",
      "[CV]  max_depth=2, n_estimators=100, score=-0.040007852137263274, total=   0.0s\n",
      "[CV] max_depth=2, n_estimators=200 ...................................\n",
      "[CV] max_depth=2, n_estimators=100 ...................................\n",
      "[CV]  max_depth=2, n_estimators=250, score=-0.09722475082823136, total=   0.1s\n",
      "[CV] max_depth=2, n_estimators=300 ...................................\n",
      "[CV]  max_depth=1, n_estimators=250, score=-0.06794672595889165, total=   0.1s\n",
      "[CV] max_depth=1, n_estimators=250 ...................................\n",
      "[CV]  max_depth=2, n_estimators=100, score=-0.10105630475138906, total=   0.0s\n",
      "[CV] max_depth=2, n_estimators=100 ...................................\n",
      "[CV]  max_depth=2, n_estimators=100, score=-0.09765425367333726, total=   0.0s\n",
      "[CV] max_depth=2, n_estimators=150 ...................................\n",
      "[CV]  max_depth=2, n_estimators=200, score=-0.09991523277707977, total=   0.1s\n",
      "[CV] max_depth=2, n_estimators=200 ...................................\n",
      "[CV]  max_depth=1, n_estimators=250, score=-0.08649010111195508, total=   0.1s\n",
      "[CV] max_depth=1, n_estimators=250 ...................................\n",
      "[CV]  max_depth=2, n_estimators=300, score=-0.03945121870140037, total=   0.1s\n",
      "[CV]  max_depth=2, n_estimators=150, score=-0.03997548465730552, total=   0.1s\n",
      "[CV] max_depth=2, n_estimators=300 ...................................\n",
      "[CV] max_depth=2, n_estimators=150 ...................................\n",
      "[CV]  max_depth=2, n_estimators=200, score=-0.09757650620065726, total=   0.1s\n",
      "[CV] max_depth=2, n_estimators=250 ...................................\n",
      "[CV]  max_depth=1, n_estimators=250, score=-0.09497891304364829, total=   0.1s\n",
      "[CV] max_depth=1, n_estimators=300 ...................................\n",
      "[CV]  max_depth=2, n_estimators=150, score=-0.10020685986805106, total=   0.1s\n",
      "[CV] max_depth=3, n_estimators=100 ...................................\n",
      "[CV]  max_depth=2, n_estimators=300, score=-0.09992085821702004, total=   0.1s\n",
      "[CV]  max_depth=2, n_estimators=250, score=-0.039530677257891875, total=   0.1s\n",
      "[CV] max_depth=2, n_estimators=300 ...................................\n",
      "[CV] max_depth=2, n_estimators=250 ...................................\n",
      "[CV]  max_depth=3, n_estimators=100, score=-0.10914328170780062, total=   0.0s\n",
      "[CV] max_depth=3, n_estimators=150 ...................................\n",
      "[CV]  max_depth=1, n_estimators=300, score=-0.06949903205747687, total=   0.1s\n",
      "[CV] max_depth=1, n_estimators=300 ...................................\n",
      "[CV]  max_depth=3, n_estimators=150, score=-0.06866565289165169, total=   0.1s\n",
      "[CV] max_depth=3, n_estimators=150 ...................................\n",
      "[CV]  max_depth=2, n_estimators=250, score=-0.09990791033128935, total=   0.1s\n",
      "[CV] max_depth=3, n_estimators=200 ...................................\n",
      "[CV]  max_depth=2, n_estimators=300, score=-0.09702304227467447, total=   0.1s\n",
      "[CV] max_depth=3, n_estimators=100 ...................................\n",
      "[CV]  max_depth=1, n_estimators=300, score=-0.08624936343108874, total=   0.1s\n",
      "[CV] max_depth=3, n_estimators=300 ...................................\n",
      "[CV]  max_depth=3, n_estimators=150, score=-0.12081286368623095, total=   0.1s\n",
      "[CV] max_depth=3, n_estimators=150 ...................................\n",
      "[CV]  max_depth=3, n_estimators=100, score=-0.06866565289165169, total=   0.0s\n",
      "[CV] max_depth=3, n_estimators=100 ...................................\n",
      "[CV]  max_depth=3, n_estimators=200, score=-0.1091275036164845, total=   0.1s\n",
      "[CV]  max_depth=3, n_estimators=150, score=-0.1091275036164845, total=   0.0s\n",
      "[CV] max_depth=3, n_estimators=250 ...................................\n",
      "[CV]  max_depth=3, n_estimators=100, score=-0.12081286368623095, total=   0.0s\n",
      "[CV] max_depth=4, n_estimators=150 ...................................\n",
      "[CV] max_depth=3, n_estimators=200 ...................................\n",
      "[CV]  max_depth=3, n_estimators=300, score=-0.1091275036164845, total=   0.1s\n",
      "[CV] max_depth=4, n_estimators=100 ...................................\n",
      "[CV]  max_depth=4, n_estimators=150, score=-0.0998676874461367, total=   0.1s\n",
      "[CV]  max_depth=3, n_estimators=200, score=-0.06866565289165169, total=   0.1s\n",
      "[CV]  max_depth=3, n_estimators=250, score=-0.06866565289165169, total=   0.1s\n",
      "[CV] max_depth=4, n_estimators=200 ...................................\n",
      "[CV] max_depth=3, n_estimators=250 ...................................\n",
      "[CV] max_depth=3, n_estimators=200 ...................................\n"
     ]
    },
    {
     "name": "stderr",
     "output_type": "stream",
     "text": [
      "[Parallel(n_jobs=-1)]: Done  20 tasks      | elapsed:    0.7s\n"
     ]
    },
    {
     "name": "stdout",
     "output_type": "stream",
     "text": [
      "[CV]  max_depth=4, n_estimators=100, score=-0.06866565289165169, total=   0.1s\n",
      "[CV] max_depth=4, n_estimators=100 ...................................\n",
      "[CV]  max_depth=4, n_estimators=200, score=-0.06866565289165169, total=   0.1s\n",
      "[CV] max_depth=4, n_estimators=200 ...................................\n",
      "[CV]  max_depth=4, n_estimators=100, score=-0.12081286368623095, total=   0.0s\n",
      "[CV] max_depth=4, n_estimators=100 ...................................\n",
      "[CV]  max_depth=3, n_estimators=200, score=-0.12081286368623095, total=   0.1s\n",
      "[CV] max_depth=4, n_estimators=250 ...................................\n",
      "[CV]  max_depth=3, n_estimators=250, score=-0.12081286368623095, total=   0.1s\n",
      "[CV] max_depth=3, n_estimators=250 ...................................\n",
      "[CV]  max_depth=4, n_estimators=100, score=-0.0998676874461367, total=   0.0s\n",
      "[CV] max_depth=4, n_estimators=150 ...................................\n",
      "[CV]  max_depth=4, n_estimators=200, score=-0.12081286368623095, total=   0.1s\n",
      "[CV] max_depth=4, n_estimators=200 ...................................\n",
      "[CV]  max_depth=4, n_estimators=250, score=-0.0998676874461367, total=   0.1s\n",
      "[CV] max_depth=4, n_estimators=300 ...................................\n",
      "[CV]  max_depth=3, n_estimators=250, score=-0.1091275036164845, total=   0.1s\n",
      "[CV]  max_depth=4, n_estimators=150, score=-0.06866565289165169, total=   0.1s\n",
      "[CV] max_depth=3, n_estimators=300 ...................................\n",
      "[CV] max_depth=4, n_estimators=150 ...................................\n",
      "[CV]  max_depth=4, n_estimators=200, score=-0.0998676874461367, total=   0.1s\n",
      "[CV] max_depth=4, n_estimators=250 ...................................\n",
      "[CV]  max_depth=4, n_estimators=150, score=-0.12081286368623095, total=   0.1s\n",
      "[CV] max_depth=5, n_estimators=100 ...................................\n",
      "[CV]  max_depth=3, n_estimators=300, score=-0.06866565289165169, total=   0.1s\n",
      "[CV] max_depth=3, n_estimators=300 ...................................\n",
      "[CV]  max_depth=4, n_estimators=300, score=-0.06866565289165169, total=   0.2s\n",
      "[CV]  max_depth=5, n_estimators=100, score=-0.0998676874461367, total=   0.0s\n",
      "[CV] max_depth=4, n_estimators=300 ...................................\n",
      "[CV] max_depth=5, n_estimators=150 ...................................\n",
      "[CV]  max_depth=4, n_estimators=250, score=-0.06866565289165169, total=   0.1s\n",
      "[CV] max_depth=4, n_estimators=250 ...................................\n",
      "[CV]  max_depth=5, n_estimators=150, score=-0.06866565289165169, total=   0.1s\n",
      "[CV]  max_depth=4, n_estimators=300, score=-0.12081286368623095, total=   0.1s\n",
      "[CV] max_depth=5, n_estimators=150 ...................................\n",
      "[CV] max_depth=4, n_estimators=300 ...................................\n",
      "[CV]  max_depth=3, n_estimators=300, score=-0.12081286368623095, total=   0.1s\n",
      "[CV] max_depth=5, n_estimators=200 ...................................\n",
      "[CV]  max_depth=4, n_estimators=250, score=-0.12081286368623095, total=   0.1s\n",
      "[CV] max_depth=5, n_estimators=300 ...................................\n",
      "[CV]  max_depth=5, n_estimators=150, score=-0.12081286368623095, total=   0.1s\n",
      "[CV] max_depth=5, n_estimators=150 ...................................\n",
      "[CV]  max_depth=5, n_estimators=150, score=-0.0998676874461367, total=   0.1s\n",
      "[CV]  max_depth=5, n_estimators=200, score=-0.0998676874461367, total=   0.1s\n",
      "[CV] max_depth=5, n_estimators=250 ...................................\n",
      "[CV] max_depth=5, n_estimators=200 ...................................\n",
      "[CV]  max_depth=4, n_estimators=300, score=-0.0998676874461367, total=   0.2s\n",
      "[CV] max_depth=5, n_estimators=100 ...................................\n",
      "[CV]  max_depth=5, n_estimators=300, score=-0.0998676874461367, total=   0.2s\n",
      "[CV]  max_depth=5, n_estimators=100, score=-0.06866565289165169, total=   0.1s\n",
      "[CV] max_depth=5, n_estimators=100 ...................................\n",
      "[CV]  max_depth=5, n_estimators=200, score=-0.06866565289165169, total=   0.1s\n",
      "[CV]  max_depth=5, n_estimators=250, score=-0.06866565289165169, total=   0.1s\n",
      "[CV] max_depth=5, n_estimators=200 ...................................\n",
      "[CV] max_depth=5, n_estimators=250 ...................................\n",
      "[CV]  max_depth=5, n_estimators=100, score=-0.12081286368623095, total=   0.0s\n",
      "[CV]  max_depth=5, n_estimators=200, score=-0.12081286368623095, total=   0.0s\n",
      "[CV]  max_depth=5, n_estimators=250, score=-0.12081286368623095, total=   0.0s\n",
      "[CV] max_depth=5, n_estimators=250 ...................................\n",
      "[CV]  max_depth=5, n_estimators=250, score=-0.0998676874461367, total=   0.0s\n",
      "[CV] max_depth=5, n_estimators=300 ...................................\n",
      "[CV]  max_depth=5, n_estimators=300, score=-0.06866565289165169, total=   0.0s\n",
      "[CV] max_depth=5, n_estimators=300 ...................................\n",
      "[CV]  max_depth=5, n_estimators=300, score=-0.12081286368623095, total=   0.0s\n"
     ]
    },
    {
     "name": "stderr",
     "output_type": "stream",
     "text": [
      "[Parallel(n_jobs=-1)]: Done  75 out of  75 | elapsed:    1.9s finished\n"
     ]
    }
   ],
   "source": [
    "# 設定要訓練的超參數組合\n",
    "n_estimators = [100, 150, 200, 250, 300]\n",
    "max_depth = [1, 2, 3, 4, 5]\n",
    "param_grid = dict(n_estimators=n_estimators, max_depth=max_depth)\n",
    "\n",
    "## 建立搜尋物件，放入模型及參數組合字典 (n_jobs=-1 會使用全部 cpu 平行運算)\n",
    "grid_search = GridSearchCV(clf, param_grid, scoring=\"neg_mean_squared_error\", n_jobs=-1, verbose=5)\n",
    "\n",
    "# 開始搜尋最佳參數\n",
    "grid_result = grid_search.fit(x_train, y_train)\n",
    "\n",
    "# 預設會跑 3-fold cross-validadtion，總共 9 種參數組合，總共要 train 27 次模型"
   ]
  },
  {
   "cell_type": "code",
   "execution_count": 11,
   "metadata": {},
   "outputs": [
    {
     "name": "stdout",
     "output_type": "stream",
     "text": [
      "Best Accuracy: -0.078503 using {'max_depth': 2, 'n_estimators': 300}\n"
     ]
    }
   ],
   "source": [
    "# 印出最佳結果與最佳參數\n",
    "print(\"Best Accuracy: %f using %s\" % (grid_result.best_score_, grid_result.best_params_))"
   ]
  },
  {
   "cell_type": "code",
   "execution_count": 12,
   "metadata": {},
   "outputs": [
    {
     "data": {
      "text/plain": [
       "{'max_depth': 2, 'n_estimators': 300}"
      ]
     },
     "execution_count": 12,
     "metadata": {},
     "output_type": "execute_result"
    }
   ],
   "source": [
    "grid_result.best_params_"
   ]
  },
  {
   "cell_type": "code",
   "execution_count": 13,
   "metadata": {},
   "outputs": [],
   "source": [
    "# 使用最佳參數重新建立模型\n",
    "clf_bestparam = GradientBoostingRegressor(max_depth=grid_result.best_params_['max_depth'],\n",
    "                                           n_estimators=grid_result.best_params_['n_estimators'])\n",
    "\n",
    "# 訓練模型\n",
    "clf_bestparam.fit(x_train, y_train)\n",
    "\n",
    "# 預測測試集\n",
    "y_pred = clf_bestparam.predict(x_test)"
   ]
  },
  {
   "cell_type": "code",
   "execution_count": 15,
   "metadata": {},
   "outputs": [
    {
     "name": "stdout",
     "output_type": "stream",
     "text": [
      "0.03323846038161252\n"
     ]
    }
   ],
   "source": [
    "# 調整參數後約可降至 0.054 的 MSE\n",
    "print(metrics.mean_squared_error(y_test, y_pred))"
   ]
  },
  {
   "cell_type": "code",
   "execution_count": null,
   "metadata": {},
   "outputs": [],
   "source": []
  }
 ],
 "metadata": {
  "kernelspec": {
   "display_name": "Python 3",
   "language": "python",
   "name": "python3"
  },
  "language_info": {
   "codemirror_mode": {
    "name": "ipython",
    "version": 3
   },
   "file_extension": ".py",
   "mimetype": "text/x-python",
   "name": "python",
   "nbconvert_exporter": "python",
   "pygments_lexer": "ipython3",
   "version": "3.6.8"
  }
 },
 "nbformat": 4,
 "nbformat_minor": 2
}
