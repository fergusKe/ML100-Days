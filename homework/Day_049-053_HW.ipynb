{
 "cells": [
  {
   "cell_type": "code",
   "execution_count": 1,
   "metadata": {},
   "outputs": [],
   "source": [
    "import numpy as np \n",
    "import pandas as pd\n",
    "import matplotlib.pyplot as plt\n",
    "%matplotlib inline"
   ]
  },
  {
   "cell_type": "code",
   "execution_count": 73,
   "metadata": {},
   "outputs": [],
   "source": [
    "# read csv\n",
    "data_path = \"data/\"\n",
    "\n",
    "train = pd.read_csv(data_path + 'train_data.csv')\n",
    "test = pd.read_csv(data_path + 'test_features.csv')"
   ]
  },
  {
   "cell_type": "code",
   "execution_count": 41,
   "metadata": {},
   "outputs": [
    {
     "name": "stdout",
     "output_type": "stream",
     "text": [
      "(113, 22) (33, 21)\n"
     ]
    }
   ],
   "source": [
    "print(train.shape, test.shape)"
   ]
  },
  {
   "cell_type": "code",
   "execution_count": 74,
   "metadata": {},
   "outputs": [
    {
     "name": "stdout",
     "output_type": "stream",
     "text": [
      "(113, 22)\n",
      "(113, 22)\n"
     ]
    }
   ],
   "source": [
    "# 補充缺失值\n",
    "train_tmp = train.fillna(train.mean())\n",
    "print(train.shape)\n",
    "\n",
    "# 移除欄位\n",
    "train_tmp = train_tmp.drop(['name', 'email_address', 'poi'], axis=1)\n",
    "print(train.shape)"
   ]
  },
  {
   "cell_type": "markdown",
   "metadata": {},
   "source": [
    "## 使用 RandomForestClassifier"
   ]
  },
  {
   "cell_type": "code",
   "execution_count": 75,
   "metadata": {},
   "outputs": [],
   "source": [
    "from sklearn import datasets, metrics\n",
    "from sklearn.model_selection import train_test_split, KFold, GridSearchCV\n",
    "from sklearn.ensemble import GradientBoostingClassifier\n",
    "\n",
    "y = train['poi']\n",
    "X = train_tmp\n",
    "print(X.shape, y.shape)\n",
    "X_train, X_test, y_train, y_test = train_test_split(X, y, test_size=0.3)\n",
    "\n",
    "# 建立模型\n",
    "clf = GradientBoostingClassifier(random_state=7)\n",
    "clf.fit(X_train, y_train)\n",
    "y_pred = clf.predict(X_test)\n",
    "print(metrics.accuracy_score(y_test, y_pred))\n",
    "\n",
    "# 評估準確度\n",
    "y_pred_prob = clf.predict_proba(X_test)[:, 1]\n",
    "auc = metrics.roc_auc_score(y_test, y_pred_prob)\n",
    "print(\"AUC: \", auc)\n",
    "\n",
    "submit = pd.DataFrame(test['name'])\n",
    "test_tmp = test.drop(['name', 'email_address'], axis=1)\n",
    "test_tmp = test_tmp.fillna(test_tmp.mean())\n",
    "\n",
    "pred_prob = clf.predict_proba(test_tmp)[:, 1]\n",
    "submit['poi'] = pred_prob\n",
    "print(submit[:10])\n",
    "# submit.to_csv('submission.csv', index=False)"
   ]
  },
  {
   "cell_type": "markdown",
   "metadata": {},
   "source": [
    "## 使用 RandomForestClassifier"
   ]
  },
  {
   "cell_type": "code",
   "execution_count": 77,
   "metadata": {},
   "outputs": [
    {
     "name": "stdout",
     "output_type": "stream",
     "text": [
      "0.8529411764705882\n",
      "AUC:  0.8273809523809524\n",
      "                   name  poi\n",
      "0      BELDEN TIMOTHY N  0.2\n",
      "1    BOWEN JR RAYMOND M  0.4\n",
      "2        HANNON KEVIN P  0.3\n",
      "3      DELAINEY DAVID W  0.1\n",
      "4      CAUSEY RICHARD A  0.1\n",
      "5      HICKERSON GARY J  0.5\n",
      "6        FREVERT MARK A  0.7\n",
      "7           CHAN RONNIE  0.7\n",
      "8  DONAHUE JR JEFFREY M  0.0\n",
      "9     REYNOLDS LAWRENCE  0.5\n"
     ]
    }
   ],
   "source": [
    "from sklearn.ensemble import RandomForestClassifier\n",
    "# 建立模型\n",
    "clf = RandomForestClassifier(random_state=7)\n",
    "clf.fit(X_train, y_train)\n",
    "y_pred = clf.predict(X_test)\n",
    "print(metrics.accuracy_score(y_test, y_pred))\n",
    "\n",
    "y_pred_prob = clf.predict_proba(X_test)[:, 1]\n",
    "auc = metrics.roc_auc_score(y_test, y_pred_prob)\n",
    "print(\"AUC: \", auc)\n",
    "\n",
    "submit = pd.DataFrame(test['name'])\n",
    "test_tmp = test.drop(['name', 'email_address'], axis=1)\n",
    "test_tmp = test_tmp.fillna(test_tmp.mean())\n",
    "\n",
    "pred_prob = clf.predict_proba(test_tmp)[:, 1]\n",
    "submit['poi'] = pred_prob\n",
    "print(submit[:10])\n",
    "submit.to_csv('submission.csv', index=False)"
   ]
  },
  {
   "cell_type": "code",
   "execution_count": null,
   "metadata": {},
   "outputs": [],
   "source": []
  }
 ],
 "metadata": {
  "kernelspec": {
   "display_name": "Python 3",
   "language": "python",
   "name": "python3"
  },
  "language_info": {
   "codemirror_mode": {
    "name": "ipython",
    "version": 3
   },
   "file_extension": ".py",
   "mimetype": "text/x-python",
   "name": "python",
   "nbconvert_exporter": "python",
   "pygments_lexer": "ipython3",
   "version": "3.6.8"
  }
 },
 "nbformat": 4,
 "nbformat_minor": 2
}
